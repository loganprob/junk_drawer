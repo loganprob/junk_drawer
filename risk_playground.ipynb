{
 "cells": [
  {
   "cell_type": "code",
   "execution_count": 4,
   "id": "28870119",
   "metadata": {},
   "outputs": [
    {
     "data": {
      "text/html": [
       "<style>.container { width:100% !important; }</style>"
      ],
      "text/plain": [
       "<IPython.core.display.HTML object>"
      ]
     },
     "metadata": {},
     "output_type": "display_data"
    }
   ],
   "source": [
    "import math\n",
    "import numpy as np\n",
    "import matplotlib.pyplot as plt\n",
    "from datetime import date, timedelta\n",
    "import ipywidgets as widgets\n",
    "from ipywidgets import Layout, interact\n",
    "from IPython.display import HTML, display\n",
    "display(HTML(\"<style>.container { width:100% !important; }</style>\"))"
   ]
  },
  {
   "cell_type": "code",
   "execution_count": 11,
   "id": "1673ea33",
   "metadata": {
    "scrolled": false
   },
   "outputs": [
    {
     "data": {
      "application/vnd.jupyter.widget-view+json": {
       "model_id": "999acc2f70ae46c5a62729c995b6b848",
       "version_major": 2,
       "version_minor": 0
      },
      "text/plain": [
       "HBox(children=(VBox(children=(VBox(children=(VBox(children=(HBox(children=(Label(value='2:23', layout=Layout(a…"
      ]
     },
     "metadata": {},
     "output_type": "display_data"
    }
   ],
   "source": [
    "\n",
    "# static widgets\n",
    "lbl_icons = widgets.Label('📊 📶 🔋',layout=Layout(height='auto', width='20%', display='flex', justify_content='flex-end', align_items='center'))\n",
    "lbl_1 = widgets.Label('Total Value Chart', style=dict(font_weight='bold', font_size='18px'),layout=Layout(display='flex', justify_content='center', align_items='center', height='16%', width='auto'))\n",
    "lbl_time = widgets.Label('2:23',layout=Layout(height='auto', width='10%', display='flex', justify_content='center', align_items='center'), style=dict(font_size='14px', font_weight='bold'))\n",
    "icons = widgets.HBox([lbl_time, lbl_icons],layout=Layout(height='16%', width='auto', display='flex', justify_content='space-between'))\n",
    "lbl_2 = widgets.Label('Total Value',layout=Layout())\n",
    "lbl_3 = widgets.Label('Day Change',layout=Layout())\n",
    "\n",
    "# dynamic widgets\n",
    "lbl_marketvalue = widgets.Label('$51,749.51',layout=Layout(height='auto'), style=dict(text_color='gray', font_size='30px'))\n",
    "lbl_daychange = widgets.Label('+$1,172.66 (2.32%)',layout=Layout(), style=dict(text_color='red', font_size='14px'))\n",
    "lbl_period = widgets.Label('1 Month Change')\n",
    "lbl_periodchange = widgets.Label('+$5,796.08 (12.61%)', style=dict(text_color='red', font_size='14px'))\n",
    "\n",
    "\n",
    "\n",
    "\n",
    "\n",
    "def sim_drawdown(vol_pct,time_btn):\n",
    "    t = times[time_btn]['n']\n",
    "    v = vol_pct*max_vol*t**(-0.5)*(-2.33)\n",
    "    steps = max(int(250/t),50)\n",
    "    \n",
    "    x = np.linspace(0,100,steps)\n",
    "    \n",
    "    #y = np.random.normal(loc=math.log(1+v)/steps,scale=-v/steps**0.75,size=steps)\n",
    "    #y = np.cumsum(y)-y[0]\n",
    "    #y = y*y/y[-1]\n",
    "    #y += 1\n",
    "    #y *= mv_start\n",
    "    \n",
    "    #ysmooth = np.linspace(mv_start,mv_start*(1+v), steps)\n",
    "\n",
    "    y = np.random.normal(loc=math.log(1+v)/steps,scale=-v/(steps**0.5),size=steps-1)\n",
    "    y -= (sum(y)-math.log(1+v))/(steps)\n",
    "    y = np.exp(y)\n",
    "    y = np.insert(y,0,mv_start)\n",
    "    y = np.cumprod(y)\n",
    "\n",
    "    # plotting style\n",
    "    fig, ax = plt.subplots(facecolor='#111111', figsize=(5,5.5)) #6.8\n",
    "    ax.plot(x,y, color='#009EDC')\n",
    "    \n",
    "    #ax.plot(x,ysmooth)\n",
    "    \n",
    "    ax.fill_between(x,y, alpha=0.1, facecolor='#009EDC', hatch='|')\n",
    "    ax.set_facecolor('#111111')\n",
    "    ax.set_ylim(min(y)*0.999, max(y)*1.001)\n",
    "    flt_labels = ax.get_yticks()\n",
    "    ax.set_yticks(flt_labels)\n",
    "    ax.set_yticklabels([f'${round(i,-1):.0f}' if i<1000 else (f'${i/1000:.1f}K' if i<1000000 else f'${i/1000000:.2f}M') for i in flt_labels])\n",
    "    ax.set_xticks([0,20,40,60,80])\n",
    "    ax.set_xticklabels(times[time_btn]['lbl'],  ha='left')\n",
    "    ax.yaxis.set_label_position('right')\n",
    "    ax.tick_params(axis='both', colors='gray', length=0)\n",
    "    ax.yaxis.tick_right()\n",
    "    ax.spines['top'].set_visible(False)\n",
    "    ax.spines['right'].set_visible(False)\n",
    "    ax.spines['bottom'].set_visible(False)\n",
    "    ax.spines['left'].set_visible(False)\n",
    "\n",
    "    # update other widgets\n",
    "    lbl_marketvalue.value = f'${y[-1]:,.2f}'\n",
    "    lbl_period.value = times[time_btn]['chglbl']\n",
    "    \n",
    "    lbl_periodchange.value = f'-${abs(y[-1]-y[0]):,.2f} (-{100*abs(y[-1]/y[0]-1):.2f}%)'\n",
    "    lbl_daychange.value = lbl_periodchange.value if time_btn=='1 D' else (lambda a,b: f'-${b-a:,.2f} ({(a/b-1)*100:.2f}%)')(y[-1],y[-1]*np.random.uniform(1.005,1.02))\n",
    "\n",
    "    \n",
    "\n",
    "times = {'1 D':{'n':250, 'lbl':['6:30','8:00','9:30','11:00','12:30'], 'chglbl': '1 Day Change'},\n",
    "         '1 M':{'n':12, 'lbl':[(date.today()-timedelta(days=(5-d)*6.1)).strftime('%b %d') for d in range(5)], 'chglbl': '1 Month Change'},\n",
    "         '3 M':{'n':4, 'lbl':[(date.today()-timedelta(days=(5-d)*18.25)).strftime('%b %d') for d in range(5)], 'chglbl': '3 Month Change'},\n",
    "         '6 M':{'n':2, 'lbl':[(date.today()-timedelta(days=(5-d)*36.5)).strftime('%b') for d in range(5)], 'chglbl': '6 Month Change'},\n",
    "         '1 Y':{'n':1, 'lbl':[(date.today()-timedelta(days=(5-d)*73)).strftime('%b \\'%y') for d in range(5)], 'chglbl': '1 Year Change'}}\n",
    "results = {'1 D':{'a': None,'b': None},\n",
    "           '1 M':{'a': None,'b': None},\n",
    "           '3 M':{'a': None,'b': None},\n",
    "           '6 M':{'a': None,'b': None},\n",
    "           '1 Y':{'a': None,'b': None}}\n",
    "\n",
    "max_vol = 0.3\n",
    "mv_start = 2000000\n",
    "\n",
    "\n",
    "time_buttons = widgets.ToggleButtons(options=['1 D', '1 M', '3 M', '6 M', '1 Y'], layout=Layout(width='100%'), style=dict(button_width='14%'))\n",
    "vol_slider = widgets.FloatSlider(value=0.07, min=0.01, max=1, step=0.01, readout=False, layout=Layout(width='22vw'))\n",
    "price_chart = widgets.interactive_output(sim_drawdown,{'vol_pct': vol_slider, 'time_btn': time_buttons})\n",
    "\n",
    "\n",
    "# container widgets\n",
    "value_box = widgets.VBox([lbl_2, lbl_marketvalue, lbl_3, lbl_daychange],layout=Layout(height='74%', width='auto'))\n",
    "header = widgets.VBox([icons, lbl_1, value_box], layout=Layout(height='24%', width='auto'))\n",
    "body = widgets.VBox([price_chart], layout=Layout(height='61%', width='auto'))\n",
    "footer_values = widgets.VBox([lbl_period, lbl_periodchange], layout=Layout(height='70%', width='auto'))\n",
    "\n",
    "\n",
    "footer_buttons = widgets.HBox([time_buttons],layout=Layout(height='30%', width='auto'))\n",
    "footer = widgets.VBox([footer_values, footer_buttons], layout=Layout(height='15%', width='auto'))\n",
    "test = widgets.VBox([header, body, footer],layout=Layout(height='100%', width='22vw', border='2px solid gray')) #22vw\n",
    "\n",
    "\n",
    "def record_sigma1(b):\n",
    "    v = vol_slider.value*max_vol*times[time_buttons.value]['n']**(-0.5)*(-2.33)\n",
    "    results[time_buttons.value]['a'] = v/(-1.65)\n",
    "    \n",
    "def record_sigma2(b):\n",
    "    v = vol_slider.value*max_vol*times[time_buttons.value]['n']**(-0.5)\n",
    "    results[time_buttons.value]['b'] = v\n",
    "    \n",
    "    \n",
    "sigma1 = widgets.Button(button_style='warning', layout=Layout(width='30px'))\n",
    "sigma2 = widgets.Button(button_style='danger', layout=Layout(width='30px'))\n",
    "sigma1.on_click(record_sigma1)\n",
    "sigma2.on_click(record_sigma2)\n",
    "\n",
    "confirm = widgets.Button(button_style='info', layout=Layout(width='30px'))\n",
    "\n",
    "phone = widgets.VBox([test, widgets.HBox([vol_slider, sigma1, sigma2, confirm], layout=Layout(width='22vw'))], #22vw\n",
    "                     layout=Layout(display='flex', flex_flow='column', align_items='center'))\n",
    "\n",
    "def show_volchart(b):\n",
    "    main.children = [phone, vol_box]\n",
    "    annl_btn = widgets.ToggleButton(description='Toggle Annualized', value=False)\n",
    "    vol_chart = widgets.interactive_output(interact_volchart,{'annl': annl_btn})\n",
    "    vol_box.children = [vol_chart, annl_btn]\n",
    "    \n",
    "    return\n",
    "\n",
    "def interact_volchart(annl):\n",
    "    fig, ax = plt.subplots()\n",
    "    \n",
    "    x = [1/250,1/12,1/4,1/2,1]\n",
    "    if annl:\n",
    "        sig1 = [results[i]['a']*times[i]['n']**0.5 for i in results]\n",
    "        sig2 = [results[i]['b']*times[i]['n']**0.5 for i in results]\n",
    "        avg = [0.5*(np.average(sig1)+np.average(sig2))]*len(x)\n",
    "        ax.plot(x,avg)\n",
    "        \n",
    "    else:\n",
    "        sig1 = [results[i]['a'] for i in results]\n",
    "        sig2 = [results[i]['b'] for i in results]\n",
    "    ax.scatter(x,sig1)\n",
    "    ax.scatter(x,sig2)\n",
    "    \n",
    "    ax.set_ylim(0,0.4)\n",
    "    \n",
    "\n",
    "confirm.on_click(show_volchart)\n",
    "\n",
    "vol_box = widgets.VBox(layout=Layout(height='100%', display='flex', flex_flow='both', justify_content='center', align_items='center'))\n",
    "\n",
    "main = widgets.HBox([phone], layout=Layout(display='flex', flex_flow='row', justify_content='space-around', height='100%')) #display='flex', flex_flow='column', align_items='stretch',\n",
    "\n",
    "\n",
    "\n",
    "\n",
    "display(main)\n"
   ]
  },
  {
   "cell_type": "code",
   "execution_count": 836,
   "id": "4add4b49",
   "metadata": {},
   "outputs": [
    {
     "data": {
      "text/plain": [
       "{'1 D': {'a': 0.005894485558553862, 'b': 0.006451046426743494},\n",
       " '1 M': {'a': 0.03301918675883578, 'b': 0.03204293994002423},\n",
       " '3 M': {'a': 0.06142727272727274, 'b': 0.058499999999999996},\n",
       " '6 M': {'a': 0.0808801592808104, 'b': 0.0742462120245875},\n",
       " '1 Y': {'a': 0.10590909090909091, 'b': 0.111}}"
      ]
     },
     "execution_count": 836,
     "metadata": {},
     "output_type": "execute_result"
    }
   ],
   "source": [
    "results"
   ]
  },
  {
   "cell_type": "code",
   "execution_count": 837,
   "id": "b557dc56",
   "metadata": {},
   "outputs": [],
   "source": [
    "sig1 = [results[i]['a']*times[i]['n']**0.5 for i in results]\n",
    "sig2 = [results[i]['b']*times[i]['n']**0.5 for i in results]"
   ]
  },
  {
   "cell_type": "code",
   "execution_count": null,
   "id": "241793b7",
   "metadata": {},
   "outputs": [],
   "source": []
  },
  {
   "cell_type": "code",
   "execution_count": null,
   "id": "c907eaa4",
   "metadata": {},
   "outputs": [],
   "source": []
  },
  {
   "cell_type": "code",
   "execution_count": null,
   "id": "2e13e6d0",
   "metadata": {},
   "outputs": [],
   "source": []
  },
  {
   "cell_type": "code",
   "execution_count": null,
   "id": "6e290bff",
   "metadata": {},
   "outputs": [],
   "source": []
  },
  {
   "cell_type": "code",
   "execution_count": null,
   "id": "b74d0ab5",
   "metadata": {},
   "outputs": [],
   "source": []
  },
  {
   "cell_type": "code",
   "execution_count": null,
   "id": "ff56f7ee",
   "metadata": {},
   "outputs": [],
   "source": []
  },
  {
   "cell_type": "code",
   "execution_count": null,
   "id": "2972f62a",
   "metadata": {},
   "outputs": [],
   "source": []
  },
  {
   "cell_type": "code",
   "execution_count": null,
   "id": "9a9b973b",
   "metadata": {},
   "outputs": [],
   "source": []
  }
 ],
 "metadata": {
  "kernelspec": {
   "display_name": "Python 3 (ipykernel)",
   "language": "python",
   "name": "python3"
  },
  "language_info": {
   "codemirror_mode": {
    "name": "ipython",
    "version": 3
   },
   "file_extension": ".py",
   "mimetype": "text/x-python",
   "name": "python",
   "nbconvert_exporter": "python",
   "pygments_lexer": "ipython3",
   "version": "3.9.16"
  },
  "voila": {
   "theme": "dark"
  }
 },
 "nbformat": 4,
 "nbformat_minor": 5
}
